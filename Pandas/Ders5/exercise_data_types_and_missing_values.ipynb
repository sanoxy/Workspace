{
  "cells": [
    {
      "cell_type": "markdown",
      "metadata": {
        "id": "view-in-github",
        "colab_type": "text"
      },
      "source": [
        "<a href=\"https://colab.research.google.com/github/sanoxy/Workspace/blob/main/Pandas/Ders5/exercise_data_types_and_missing_values.ipynb\" target=\"_parent\"><img src=\"https://colab.research.google.com/assets/colab-badge.svg\" alt=\"Open In Colab\"/></a>"
      ]
    },
    {
      "cell_type": "markdown",
      "metadata": {
        "id": "4zoylmlwkDOd"
      },
      "source": [
        "**This notebook is an exercise in the [Pandas](https://www.kaggle.com/learn/pandas) course.  You can reference the tutorial at [this link](https://www.kaggle.com/residentmario/data-types-and-missing-values).**\n",
        "\n",
        "---\n"
      ]
    },
    {
      "cell_type": "markdown",
      "metadata": {
        "id": "Blo72HyxkDOg"
      },
      "source": [
        "# Introduction\n",
        "\n",
        "Run the following cell to load your data and some utility functions."
      ]
    },
    {
      "cell_type": "code",
      "execution_count": 1,
      "metadata": {
        "colab": {
          "base_uri": "https://localhost:8080/"
        },
        "id": "5icCtZ0kkDOh",
        "outputId": "7d713570-e142-4916-ff40-849ac67e66b9"
      },
      "outputs": [
        {
          "output_type": "stream",
          "name": "stdout",
          "text": [
            "Setup complete.\n"
          ]
        }
      ],
      "source": [
        "import pandas as pd\n",
        "\n",
        "reviews = pd.read_csv(\"/content/winemag-data-130k-v2.csv\", index_col=0)\n",
        "\n",
        "print(\"Setup complete.\")"
      ]
    },
    {
      "cell_type": "markdown",
      "metadata": {
        "id": "LYomtlYvkDOi"
      },
      "source": [
        "# Exercises"
      ]
    },
    {
      "cell_type": "markdown",
      "metadata": {
        "id": "feSpVKR_kDOj"
      },
      "source": [
        "## 1. \n",
        "What is the data type of the `points` column in the dataset?"
      ]
    },
    {
      "cell_type": "code",
      "execution_count": 2,
      "metadata": {
        "colab": {
          "base_uri": "https://localhost:8080/"
        },
        "id": "oWIfjJnlkDOj",
        "outputId": "ccf14939-8ec7-4c8e-ab65-59f64ee0f398"
      },
      "outputs": [
        {
          "output_type": "execute_result",
          "data": {
            "text/plain": [
              "dtype('int64')"
            ]
          },
          "metadata": {},
          "execution_count": 2
        }
      ],
      "source": [
        "# Your code here\n",
        "reviews.points.dtype"
      ]
    },
    {
      "cell_type": "markdown",
      "metadata": {
        "id": "-5YHcs1RkDOk"
      },
      "source": [
        "## 2. \n",
        "Create a Series from entries in the `points` column, but convert the entries to strings. Hint: strings are `str` in native Python."
      ]
    },
    {
      "cell_type": "code",
      "execution_count": 3,
      "metadata": {
        "colab": {
          "base_uri": "https://localhost:8080/"
        },
        "id": "EdG9Xs2_kDOk",
        "outputId": "e819d7f2-d880-4d9a-c840-0ef0b223ef30"
      },
      "outputs": [
        {
          "output_type": "execute_result",
          "data": {
            "text/plain": [
              "0         87\n",
              "1         87\n",
              "2         87\n",
              "3         87\n",
              "4         87\n",
              "          ..\n",
              "129966    90\n",
              "129967    90\n",
              "129968    90\n",
              "129969    90\n",
              "129970    90\n",
              "Name: points, Length: 129971, dtype: object"
            ]
          },
          "metadata": {},
          "execution_count": 3
        }
      ],
      "source": [
        "reviews.points.astype(str)"
      ]
    },
    {
      "cell_type": "markdown",
      "metadata": {
        "id": "0mgJPsXFkDOl"
      },
      "source": [
        "## 3.\n",
        "Sometimes the price column is null. How many reviews in the dataset are missing a price?"
      ]
    },
    {
      "cell_type": "code",
      "execution_count": 4,
      "metadata": {
        "colab": {
          "base_uri": "https://localhost:8080/"
        },
        "id": "wzpkRkGJkDOm",
        "outputId": "0050df3c-7ac0-4f1b-e9e9-18229d76bd50"
      },
      "outputs": [
        {
          "output_type": "execute_result",
          "data": {
            "text/plain": [
              "8996"
            ]
          },
          "metadata": {},
          "execution_count": 4
        }
      ],
      "source": [
        "len(reviews[reviews.price.isnull()])\n",
        "\n",
        "reviews.price.isnull().sum()\n",
        "\n",
        "pd.isnull(reviews.price).sum()"
      ]
    },
    {
      "cell_type": "markdown",
      "metadata": {
        "id": "zhjqG4ctkDOm"
      },
      "source": [
        "## 4.\n",
        "What are the most common wine-producing regions? Create a Series counting the number of times each value occurs in the `region_1` field. This field is often missing data, so replace missing values with `Unknown`. Sort in descending order.  Your output should look something like this:\n",
        "\n",
        "```\n",
        "Unknown                    21247\n",
        "Napa Valley                 4480\n",
        "                           ...  \n",
        "Bardolino Superiore            1\n",
        "Primitivo del Tarantino        1\n",
        "Name: region_1, Length: 1230, dtype: int64\n",
        "```"
      ]
    },
    {
      "cell_type": "code",
      "execution_count": 7,
      "metadata": {
        "colab": {
          "base_uri": "https://localhost:8080/"
        },
        "id": "90mUvj6BkDOn",
        "outputId": "41e87fc2-f203-4c61-f41d-a2f813316670"
      },
      "outputs": [
        {
          "output_type": "execute_result",
          "data": {
            "text/plain": [
              "Paestum                     1\n",
              "Isle St. George             1\n",
              "Corton Perrières            1\n",
              "Offida Rosso                1\n",
              "Clairette de Die            1\n",
              "                        ...  \n",
              "California               2629\n",
              "Russian River Valley     3091\n",
              "Columbia Valley (WA)     4124\n",
              "Napa Valley              4480\n",
              "unknown                 21247\n",
              "Name: region_1, Length: 1230, dtype: int64"
            ]
          },
          "metadata": {},
          "execution_count": 7
        }
      ],
      "source": [
        "clean_data = reviews.region_1.fillna(\"unknown\").value_counts().sort_values(ascending=True)\n",
        "clean_data"
      ]
    }
  ],
  "metadata": {
    "kernelspec": {
      "display_name": "Python 3",
      "language": "python",
      "name": "python3"
    },
    "language_info": {
      "codemirror_mode": {
        "name": "ipython",
        "version": 3
      },
      "file_extension": ".py",
      "mimetype": "text/x-python",
      "name": "python",
      "nbconvert_exporter": "python",
      "pygments_lexer": "ipython3",
      "version": "3.6.5"
    },
    "colab": {
      "provenance": [],
      "include_colab_link": true
    }
  },
  "nbformat": 4,
  "nbformat_minor": 0
}