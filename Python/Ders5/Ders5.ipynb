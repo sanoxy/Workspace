{
  "nbformat": 4,
  "nbformat_minor": 0,
  "metadata": {
    "colab": {
      "name": "Ders5.ipynb",
      "provenance": [],
      "authorship_tag": "ABX9TyOYGpLa0HALG4siQ+Fr8ig3",
      "include_colab_link": true
    },
    "kernelspec": {
      "name": "python3",
      "display_name": "Python 3"
    },
    "language_info": {
      "name": "python"
    }
  },
  "cells": [
    {
      "cell_type": "markdown",
      "metadata": {
        "id": "view-in-github",
        "colab_type": "text"
      },
      "source": [
        "<a href=\"https://colab.research.google.com/github/sanoxy/Workspace/blob/main/Python/Ders5/Ders5.ipynb\" target=\"_parent\"><img src=\"https://colab.research.google.com/assets/colab-badge.svg\" alt=\"Open In Colab\"/></a>"
      ]
    },
    {
      "cell_type": "code",
      "execution_count": null,
      "metadata": {
        "colab": {
          "base_uri": "https://localhost:8080/",
          "height": 53
        },
        "id": "ZAVC_tjtTyRP",
        "outputId": "a69efc1b-ae61-43e9-890a-0c371f3e7aae"
      },
      "outputs": [
        {
          "output_type": "execute_result",
          "data": {
            "text/plain": [
              "'Ayberk Erkan Ali\\nAyberk Erkan Ali\\nAyberk Erkan Ali\\nAyberk Erkan Ali\\nAyberk Erkan Ali'"
            ],
            "application/vnd.google.colaboratory.intrinsic+json": {
              "type": "string"
            }
          },
          "metadata": {},
          "execution_count": 3
        }
      ],
      "source": [
        "f = open(\"/content/text.txt\") # r\n",
        "f.read()"
      ]
    },
    {
      "cell_type": "code",
      "source": [
        "f = open(\"/content/test.png\",'r+b')"
      ],
      "metadata": {
        "id": "IVHOCBkBlU1i"
      },
      "execution_count": null,
      "outputs": []
    },
    {
      "cell_type": "code",
      "source": [
        "f.close()"
      ],
      "metadata": {
        "id": "PfhjcWthlh9k"
      },
      "execution_count": null,
      "outputs": []
    },
    {
      "cell_type": "code",
      "source": [
        "try:\n",
        "  f = open(\"/content/text.txt\")\n",
        "except:\n",
        "  print(\"Exception!\")\n",
        "finally:\n",
        "  f.close()\n",
        "\n",
        "print(\"Still Runnig!\")"
      ],
      "metadata": {
        "colab": {
          "base_uri": "https://localhost:8080/"
        },
        "id": "uJHu-fRYllH8",
        "outputId": "84e1c635-3c85-4522-9d6b-920fcc250758"
      },
      "execution_count": null,
      "outputs": [
        {
          "output_type": "stream",
          "name": "stdout",
          "text": [
            "Still Runnig!\n"
          ]
        }
      ]
    },
    {
      "cell_type": "code",
      "source": [
        "with open(\"/content/text.txt\", encoding='utf-8') as f:\n",
        "  print(f.readline())\n",
        "  print(f.readline())\n",
        "  print(f.readline())\n",
        "  print(f.readline())\n",
        "  print(f.readline())\n",
        "\n",
        "  f.seek(0)\n",
        "\n",
        "  print(f.readline())\n",
        "  print(f.readline())\n",
        "  print(f.readline())\n",
        "  print(f.readline())\n"
      ],
      "metadata": {
        "colab": {
          "base_uri": "https://localhost:8080/"
        },
        "id": "zHZRsp43mNei",
        "outputId": "94197af8-bdc5-4a3f-d54c-5cf2da462675"
      },
      "execution_count": null,
      "outputs": [
        {
          "output_type": "stream",
          "name": "stdout",
          "text": [
            "Ayberk Erkan Ali 1\n",
            "\n",
            "Ayberk Erkan Ali 2\n",
            "\n",
            "Ayberk Erkan Ali 3\n",
            "\n",
            "Ayberk Erkan Ali 4\n",
            "\n",
            "Ayberk Erkan Ali 5\n",
            "Ayberk Erkan Ali 1\n",
            "\n",
            "Ayberk Erkan Ali 2\n",
            "\n",
            "Ayberk Erkan Ali 3\n",
            "\n",
            "Ayberk Erkan Ali 4\n",
            "\n"
          ]
        }
      ]
    },
    {
      "cell_type": "code",
      "source": [
        "f = open(\"/content/text.txt\") #r\n",
        "\n",
        "for line in f:\n",
        "  print(line)\n",
        "f.tell()\n",
        "f.seek(0)\n",
        "f.tell()"
      ],
      "metadata": {
        "colab": {
          "base_uri": "https://localhost:8080/"
        },
        "id": "PMGDtn5Mnfky",
        "outputId": "2164e4a3-dbf5-42fe-ce5b-d25a5d8cbbc7"
      },
      "execution_count": null,
      "outputs": [
        {
          "output_type": "stream",
          "name": "stdout",
          "text": [
            "Ayberk Erkan Ali 1\n",
            "\n",
            "Ayberk Erkan Ali 2\n",
            "\n",
            "Ayberk Erkan Ali 3\n",
            "\n",
            "Ayberk Erkan Ali 4\n",
            "\n",
            "Ayberk Erkan Ali 5\n"
          ]
        },
        {
          "output_type": "execute_result",
          "data": {
            "text/plain": [
              "0"
            ]
          },
          "metadata": {},
          "execution_count": 30
        }
      ]
    },
    {
      "cell_type": "code",
      "source": [
        "print(f.read())"
      ],
      "metadata": {
        "colab": {
          "base_uri": "https://localhost:8080/"
        },
        "id": "_2Z7CkzYn7g0",
        "outputId": "5d57c2f6-c716-4f0f-8264-ebcd61a33254"
      },
      "execution_count": null,
      "outputs": [
        {
          "output_type": "stream",
          "name": "stdout",
          "text": [
            "Ayberk Erkan Ali 1\n",
            "Ayberk Erkan Ali 2\n",
            "Ayberk Erkan Ali 3\n",
            "Ayberk Erkan Ali 4\n",
            "Ayberk Erkan Ali 5\n"
          ]
        }
      ]
    },
    {
      "cell_type": "code",
      "source": [
        "f.seek(0)\n",
        "print(f.read())"
      ],
      "metadata": {
        "colab": {
          "base_uri": "https://localhost:8080/"
        },
        "id": "r3exELacoNH_",
        "outputId": "ba7dd37b-3f4c-4a36-80c1-512e7fb37f32"
      },
      "execution_count": null,
      "outputs": [
        {
          "output_type": "stream",
          "name": "stdout",
          "text": [
            "Ayberk Erkan Ali 1\n",
            "Ayberk Erkan Ali 2\n",
            "Ayberk Erkan Ali 3\n",
            "Ayberk Erkan Ali 4\n",
            "Ayberk Erkan Ali 5\n"
          ]
        }
      ]
    },
    {
      "cell_type": "code",
      "source": [
        "f.fileno()\n",
        "f.writable()"
      ],
      "metadata": {
        "colab": {
          "base_uri": "https://localhost:8080/"
        },
        "id": "LOTJ4U7RonZt",
        "outputId": "9912da2b-05fa-4f88-99a4-60488785772e"
      },
      "execution_count": null,
      "outputs": [
        {
          "output_type": "execute_result",
          "data": {
            "text/plain": [
              "False"
            ]
          },
          "metadata": {},
          "execution_count": 34
        }
      ]
    },
    {
      "cell_type": "code",
      "source": [
        "with open(\"write.txt\",'r+',encoding=\"utf-8\") as f:\n",
        "  f.write(\"First Line\\n\")\n",
        "  f.write(\"Sec Line\\n\")\n",
        "  f.write(\"Thrd Line\\n\")"
      ],
      "metadata": {
        "id": "-st5UL8vo2SP"
      },
      "execution_count": null,
      "outputs": []
    },
    {
      "cell_type": "code",
      "source": [
        "f = open(\"Z.txt\",'w')"
      ],
      "metadata": {
        "id": "ilx1_bcwpW-f"
      },
      "execution_count": null,
      "outputs": []
    },
    {
      "cell_type": "code",
      "source": [
        "f.write(\"Hello\")"
      ],
      "metadata": {
        "colab": {
          "base_uri": "https://localhost:8080/"
        },
        "id": "8eWmZ35DqAxN",
        "outputId": "598b3c22-fd27-46d6-b4fb-9d2a7f261b19"
      },
      "execution_count": null,
      "outputs": [
        {
          "output_type": "execute_result",
          "data": {
            "text/plain": [
              "5"
            ]
          },
          "metadata": {},
          "execution_count": 54
        }
      ]
    },
    {
      "cell_type": "code",
      "source": [
        "f.close()"
      ],
      "metadata": {
        "id": "j0OE6G5Uq2l5"
      },
      "execution_count": null,
      "outputs": []
    },
    {
      "cell_type": "code",
      "source": [
        "f = open(\"ZZ.txt\",'w')\n",
        "f.write(\"Hello\")\n",
        "f.close()"
      ],
      "metadata": {
        "id": "PHHmJMQfq_9n"
      },
      "execution_count": null,
      "outputs": []
    },
    {
      "cell_type": "code",
      "source": [
        "import os"
      ],
      "metadata": {
        "id": "A8cCGbqXrPdJ"
      },
      "execution_count": null,
      "outputs": []
    },
    {
      "cell_type": "code",
      "source": [
        "os.getcwd()\n"
      ],
      "metadata": {
        "colab": {
          "base_uri": "https://localhost:8080/",
          "height": 36
        },
        "id": "v9qKpl0HrTx9",
        "outputId": "3928a686-6c88-4f3f-87fb-690a4a3289b9"
      },
      "execution_count": null,
      "outputs": [
        {
          "output_type": "execute_result",
          "data": {
            "text/plain": [
              "'/content'"
            ],
            "application/vnd.google.colaboratory.intrinsic+json": {
              "type": "string"
            }
          },
          "metadata": {},
          "execution_count": 72
        }
      ]
    },
    {
      "cell_type": "code",
      "source": [
        "os.chdir(\"/content/sample_data\")"
      ],
      "metadata": {
        "id": "vCGXvlOCrfmN"
      },
      "execution_count": null,
      "outputs": []
    },
    {
      "cell_type": "code",
      "source": [
        "os.listdir()"
      ],
      "metadata": {
        "colab": {
          "base_uri": "https://localhost:8080/"
        },
        "id": "ZRNezlzbrr0y",
        "outputId": "df9be8f1-1024-405d-a1d5-127d1489b2e6"
      },
      "execution_count": null,
      "outputs": [
        {
          "output_type": "execute_result",
          "data": {
            "text/plain": [
              "['anscombe.json',\n",
              " 'README.md',\n",
              " 'california_housing_test.csv',\n",
              " 'california_housing_train.csv',\n",
              " 'mnist_test.csv',\n",
              " 'mnist_train_small.csv']"
            ]
          },
          "metadata": {},
          "execution_count": 62
        }
      ]
    },
    {
      "cell_type": "code",
      "source": [
        "os.chdir(\"/content/\")"
      ],
      "metadata": {
        "id": "XaTXUtmqr8om"
      },
      "execution_count": null,
      "outputs": []
    },
    {
      "cell_type": "code",
      "source": [
        "os.mkdir(\"code\")\n"
      ],
      "metadata": {
        "id": "mll4mSK9sCyj"
      },
      "execution_count": null,
      "outputs": []
    },
    {
      "cell_type": "code",
      "source": [
        "os.rename(\"code\",\"Code\")"
      ],
      "metadata": {
        "id": "3enepP2_sUuT"
      },
      "execution_count": null,
      "outputs": []
    },
    {
      "cell_type": "code",
      "source": [
        "os.rmdir(\"Code\") "
      ],
      "metadata": {
        "id": "zcLMrH9rsZBT"
      },
      "execution_count": null,
      "outputs": []
    },
    {
      "cell_type": "code",
      "source": [
        "import shutil\n",
        "shutil.rmtree(\"sample_data\")"
      ],
      "metadata": {
        "id": "cZPsmCNzssRw"
      },
      "execution_count": null,
      "outputs": []
    },
    {
      "cell_type": "code",
      "source": [
        "try:\n",
        "  os.rmdir(\"Code\") \n",
        "except:\n",
        "  pass\n",
        "\n",
        "print(\"X\")"
      ],
      "metadata": {
        "colab": {
          "base_uri": "https://localhost:8080/"
        },
        "id": "mAsuw6IZtPFp",
        "outputId": "17cc9d04-0c8c-46e1-f16a-fadba5a68384"
      },
      "execution_count": null,
      "outputs": [
        {
          "output_type": "stream",
          "name": "stdout",
          "text": [
            "X\n"
          ]
        }
      ]
    },
    {
      "cell_type": "code",
      "source": [
        "import sys\n",
        "\n",
        "randomlist = ['a',0,2]\n",
        "\n",
        "for entry in randomlist:\n",
        "  try:\n",
        "    print(\"The entry is\", entry)\n",
        "    r = 1/int(entry)\n",
        "    break\n",
        "  except:\n",
        "    print(\"Error! \", sys.exc_info()[0], \" occured\")\n",
        "    print(\"Next Entry\")\n",
        "    print()\n",
        "print(entry , r)"
      ],
      "metadata": {
        "colab": {
          "base_uri": "https://localhost:8080/"
        },
        "id": "nSyDJWK6tjjm",
        "outputId": "47b7325a-bf39-4639-e2b9-2452d2c396d4"
      },
      "execution_count": null,
      "outputs": [
        {
          "output_type": "stream",
          "name": "stdout",
          "text": [
            "The entry is a\n",
            "Error!  <class 'ValueError'>  occured\n",
            "Next Entry\n",
            "\n",
            "The entry is 0\n",
            "Error!  <class 'ZeroDivisionError'>  occured\n",
            "Next Entry\n",
            "\n",
            "The entry is 2\n",
            "2 0.5\n"
          ]
        }
      ]
    },
    {
      "cell_type": "code",
      "source": [
        "try:\n",
        "  # code\n",
        "  pass\n",
        "except ValueError:\n",
        "  # fix \n",
        "  pass\n",
        "except (TypeError, ZeroDivisionError):\n",
        "  #fix\n",
        "  pass\n",
        "except:\n",
        "  # fix\n",
        "  pass"
      ],
      "metadata": {
        "id": "JFnX13YOu9JM"
      },
      "execution_count": null,
      "outputs": []
    },
    {
      "cell_type": "code",
      "source": [
        "raise KeyboardInterrupt"
      ],
      "metadata": {
        "colab": {
          "base_uri": "https://localhost:8080/",
          "height": 165
        },
        "id": "r6JZUA4vvayd",
        "outputId": "5b75b95b-770f-4ff5-cc21-a33f56978473"
      },
      "execution_count": null,
      "outputs": [
        {
          "output_type": "error",
          "ename": "KeyboardInterrupt",
          "evalue": "ignored",
          "traceback": [
            "\u001b[0;31m---------------------------------------------------------------------------\u001b[0m",
            "\u001b[0;31mKeyboardInterrupt\u001b[0m                         Traceback (most recent call last)",
            "\u001b[0;32m<ipython-input-84-c761920b81b0>\u001b[0m in \u001b[0;36m<module>\u001b[0;34m\u001b[0m\n\u001b[0;32m----> 1\u001b[0;31m \u001b[0;32mraise\u001b[0m \u001b[0mKeyboardInterrupt\u001b[0m\u001b[0;34m\u001b[0m\u001b[0;34m\u001b[0m\u001b[0m\n\u001b[0m",
            "\u001b[0;31mKeyboardInterrupt\u001b[0m: "
          ]
        }
      ]
    },
    {
      "cell_type": "code",
      "source": [
        "ll.add(5)\n",
        "\n",
        "test#\n",
        "try:\n",
        "  ll.getHead()\n",
        "except:\n",
        "  fail()"
      ],
      "metadata": {
        "id": "Dkn8KXt1vsRq"
      },
      "execution_count": null,
      "outputs": []
    },
    {
      "cell_type": "code",
      "source": [
        "class CustomError(Exception):\n",
        "  pass"
      ],
      "metadata": {
        "id": "pu2a1wLQxXXc"
      },
      "execution_count": null,
      "outputs": []
    },
    {
      "cell_type": "code",
      "source": [
        "raise CustomError"
      ],
      "metadata": {
        "colab": {
          "base_uri": "https://localhost:8080/",
          "height": 165
        },
        "id": "aRGVufF8xgyF",
        "outputId": "e163866f-ee40-4038-d41e-ce8e280ae68d"
      },
      "execution_count": null,
      "outputs": [
        {
          "output_type": "error",
          "ename": "CustomError",
          "evalue": "ignored",
          "traceback": [
            "\u001b[0;31m---------------------------------------------------------------------------\u001b[0m",
            "\u001b[0;31mCustomError\u001b[0m                               Traceback (most recent call last)",
            "\u001b[0;32m<ipython-input-86-dfca0b041b3d>\u001b[0m in \u001b[0;36m<module>\u001b[0;34m\u001b[0m\n\u001b[0;32m----> 1\u001b[0;31m \u001b[0;32mraise\u001b[0m \u001b[0mCustomError\u001b[0m\u001b[0;34m\u001b[0m\u001b[0;34m\u001b[0m\u001b[0m\n\u001b[0m",
            "\u001b[0;31mCustomError\u001b[0m: "
          ]
        }
      ]
    },
    {
      "cell_type": "code",
      "source": [],
      "metadata": {
        "id": "gKv0F3mlxj54"
      },
      "execution_count": null,
      "outputs": []
    }
  ]
}