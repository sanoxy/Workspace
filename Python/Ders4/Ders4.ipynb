{
 "cells": [
  {
   "cell_type": "markdown",
   "metadata": {},
   "source": [
    "# DataTypes"
   ]
  },
  {
   "cell_type": "markdown",
   "metadata": {},
   "source": [
    "## List"
   ]
  },
  {
   "cell_type": "code",
   "execution_count": null,
   "metadata": {},
   "outputs": [],
   "source": [
    "myList = [1,22,33,44,5] \n",
    "\n",
    "myList[:-2] #slicing\n",
    "\n",
    "#list(range(5,15))\n",
    "\n",
    "del myList[2]\n",
    "\n",
    "myList.reverse()\n",
    "myList\n",
    "\n",
    "pow2 = [2 ** x for x in range(10)]\n",
    "pow2\n",
    "\n",
    "pow2 = []\n",
    "\n",
    "for x in range(10):\n",
    "   pow2.append(2**x)\n",
    "\n",
    "for i in myList:\n",
    "    print(i)\n",
    "\n",
    "\n"
   ]
  },
  {
   "cell_type": "code",
   "execution_count": null,
   "metadata": {},
   "outputs": [],
   "source": [
    "persons = [[],[]]\n",
    "\n",
    "persons[0].append(input(\"Enter person1 name\"))\n",
    "persons[0].append(int(input(\"Enter person1 age\")))\n",
    "persons[0].append(int(input(\"Enter person1 ID\")))\n",
    "persons[1].append(input(\"Enter person2 name\"))\n",
    "persons[1].append(int(input(\"Enter person1 age\")))\n",
    "persons[1].append(int(input(\"Enter person2 ID\")))\n",
    "\n",
    "persons"
   ]
  },
  {
   "cell_type": "markdown",
   "metadata": {},
   "source": [
    "## Tuple"
   ]
  },
  {
   "cell_type": "code",
   "execution_count": null,
   "metadata": {},
   "outputs": [],
   "source": [
    "myTuple = (1,\"Ayberk\",3.14,[1,8,3])\n",
    "myTuple\n",
    "\n",
    "x = list(myTuple)\n",
    "x[1] = \"Erkan\"\n",
    "myTuple = tuple(x)\n",
    "\n",
    "myTuple\n",
    "\n",
    "a , b, c , d = myTuple\n",
    "myTuple[3][2]\n",
    "myTuple[-2:]\n",
    "\n",
    "del myTuple[3] # gives error! CRUD NEED TO CAST TO LIST\n",
    "myTuple\n",
    "\n"
   ]
  },
  {
   "cell_type": "code",
   "execution_count": null,
   "metadata": {},
   "outputs": [],
   "source": [
    "myTuple.count(\"Erkan\")\n",
    "myTuple.index([1,8,3])"
   ]
  },
  {
   "cell_type": "code",
   "execution_count": null,
   "metadata": {},
   "outputs": [],
   "source": [
    "\"Erkan\" in myTuple\n",
    "\n",
    "for i in myTuple:\n",
    "    print(i)"
   ]
  },
  {
   "cell_type": "code",
   "execution_count": null,
   "metadata": {},
   "outputs": [],
   "source": [
    "y = tuple(2 ** x for x in range(10))\n",
    "y"
   ]
  },
  {
   "cell_type": "code",
   "execution_count": null,
   "metadata": {},
   "outputs": [],
   "source": [
    "a = int (input(\"Amount of nubers\"))\n",
    "\n",
    "tup1 = ()\n",
    "\n",
    "for i in range (a):\n",
    "    x = list(tup1)\n",
    "    x.append(int(input(f\"Enter number {i}: \")))\n",
    "    tup1 = tuple(x)\n",
    "\n",
    "sum = 0\n",
    "for i in range (a):\n",
    "    sum += tup1[i]\n",
    "\n",
    "sum/a\n"
   ]
  },
  {
   "cell_type": "markdown",
   "metadata": {},
   "source": [
    "## Strings"
   ]
  },
  {
   "cell_type": "code",
   "execution_count": null,
   "metadata": {},
   "outputs": [],
   "source": [
    "name = \"Ayberk\"\n",
    "\n",
    "name2 = \"\"\"dsfsdfsdfsd\n",
    "fsdfsdfsdfsdfsdf\n",
    "sdfsdfsdfsdfsdfsdf\n",
    "sdfsd \"\"\"\n",
    "\n",
    "print(name2)"
   ]
  },
  {
   "cell_type": "code",
   "execution_count": null,
   "metadata": {},
   "outputs": [],
   "source": [
    "str = \"Erkan\"\n",
    "str[2]\n",
    "\n",
    "str[1:3]\n",
    "\n",
    "a = str.replace('k','A')\n",
    "a\n",
    "\n",
    "del a\n"
   ]
  },
  {
   "cell_type": "code",
   "execution_count": null,
   "metadata": {},
   "outputs": [],
   "source": [
    "str1 = \"Ayberk\"\n",
    "str2 = \"Erkan\"\n",
    "\n",
    "str1 * 3"
   ]
  },
  {
   "cell_type": "code",
   "execution_count": null,
   "metadata": {},
   "outputs": [],
   "source": [
    "x = input(\"Enter a string: \")\n",
    "letter = input(\"Enter a letter: \")\n",
    "counter = 0\n",
    "for i in x:\n",
    "    if i == letter:\n",
    "        counter += 1\n",
    "counter"
   ]
  },
  {
   "cell_type": "code",
   "execution_count": null,
   "metadata": {},
   "outputs": [],
   "source": [
    "x.count(letter)"
   ]
  },
  {
   "cell_type": "markdown",
   "metadata": {},
   "source": [
    "## SET"
   ]
  },
  {
   "cell_type": "code",
   "execution_count": null,
   "metadata": {},
   "outputs": [],
   "source": [
    "mySet = {1,2,3}\n",
    "myList = []\n",
    "myTuple = ()\n",
    "\n",
    "mySet"
   ]
  },
  {
   "cell_type": "code",
   "execution_count": null,
   "metadata": {},
   "outputs": [],
   "source": [
    "set1 = {1,2,3,4,5}\n",
    "set2 = {4,5,6,7,8}\n",
    "\n",
    "set1.union(set2)\n",
    "set1.intersection(set2)\n",
    "\n",
    "set1 & set2\n",
    "set1 | set2\n",
    "\n",
    "set1 - set2\n",
    "\n",
    "set1.difference(set2)\n",
    "\n",
    "set1 ^ set2\n",
    "\n",
    "# for i in set1:\n",
    "#     print(i)\n",
    "\n",
    "sorted(set1)"
   ]
  },
  {
   "cell_type": "markdown",
   "metadata": {},
   "source": [
    "## Dictionary\n"
   ]
  },
  {
   "cell_type": "code",
   "execution_count": null,
   "metadata": {},
   "outputs": [],
   "source": [
    "my_dict = {}\n",
    "\n",
    "my_dict = {1:\"Ayberk\",\"Key2\":\"Erkan\"}\n",
    "my_dict.get(\"Key2\")\n",
    "list(my_dict.items())\n",
    "list(my_dict.values())\n",
    "\n",
    "my_dict[1] = \"Erkan\"\n",
    "my_dict\n",
    "\n",
    "my_dict.pop(1)\n",
    "my_dict"
   ]
  },
  {
   "cell_type": "code",
   "execution_count": null,
   "metadata": {},
   "outputs": [],
   "source": [
    "squares = {x: x*x for x in range(10)}\n",
    "squares\n",
    "\n",
    "7 in squares\n",
    "\n",
    "for i in squares:\n",
    "    print(i)\n",
    "\n"
   ]
  },
  {
   "cell_type": "code",
   "execution_count": 27,
   "metadata": {},
   "outputs": [
    {
     "data": {
      "text/plain": [
       "{5: 'Ali'}"
      ]
     },
     "execution_count": 27,
     "metadata": {},
     "output_type": "execute_result"
    }
   ],
   "source": [
    "x = {}\n",
    "\n",
    "x[5] = \"Ayberk\"\n",
    "x[\"Erkan\"] = 25\n",
    "\n",
    "x.pop(\"Erkan\")\n",
    "x[5] = \"Ali\"\n",
    "x"
   ]
  }
 ],
 "metadata": {
  "kernelspec": {
   "display_name": "Python 3.10.5 64-bit",
   "language": "python",
   "name": "python3"
  },
  "language_info": {
   "codemirror_mode": {
    "name": "ipython",
    "version": 3
   },
   "file_extension": ".py",
   "mimetype": "text/x-python",
   "name": "python",
   "nbconvert_exporter": "python",
   "pygments_lexer": "ipython3",
   "version": "3.10.5"
  },
  "orig_nbformat": 4,
  "vscode": {
   "interpreter": {
    "hash": "26de051ba29f2982a8de78e945f0abaf191376122a1563185a90213a26c5da77"
   }
  }
 },
 "nbformat": 4,
 "nbformat_minor": 2
}
