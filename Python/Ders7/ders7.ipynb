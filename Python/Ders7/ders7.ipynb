{
  "nbformat": 4,
  "nbformat_minor": 0,
  "metadata": {
    "colab": {
      "provenance": [],
      "authorship_tag": "ABX9TyMvitwdJMrosBDS6CaL0ESA",
      "include_colab_link": true
    },
    "kernelspec": {
      "name": "python3",
      "display_name": "Python 3"
    },
    "language_info": {
      "name": "python"
    }
  },
  "cells": [
    {
      "cell_type": "markdown",
      "metadata": {
        "id": "view-in-github",
        "colab_type": "text"
      },
      "source": [
        "<a href=\"https://colab.research.google.com/github/sanoxy/Workspace/blob/main/Python/Ders7/ders7.ipynb\" target=\"_parent\"><img src=\"https://colab.research.google.com/assets/colab-badge.svg\" alt=\"Open In Colab\"/></a>"
      ]
    },
    {
      "cell_type": "code",
      "execution_count": null,
      "metadata": {
        "id": "f5YJVi04fxg6"
      },
      "outputs": [],
      "source": [
        "#Openin file\n",
        "f = open(\"test.txt\")"
      ]
    },
    {
      "cell_type": "code",
      "source": [
        "#Closing file\n",
        "f.close()"
      ],
      "metadata": {
        "id": "i-wgXU7Zg_Af"
      },
      "execution_count": null,
      "outputs": []
    },
    {
      "cell_type": "code",
      "source": [
        "with open(\"test.txt\",'w',encoding='utf-8') as f:\n",
        "  f.write(\"Test 123\")\n",
        "  f.write(\"Test 321\")\n",
        "  f.write(\"\\nTest 456\")"
      ],
      "metadata": {
        "id": "FxNoFSkKhEDI"
      },
      "execution_count": null,
      "outputs": []
    },
    {
      "cell_type": "code",
      "source": [
        "f = open(\"test.txt\",'r',encoding='utf-8')\n",
        "f.read()"
      ],
      "metadata": {
        "id": "JdBKtTPshj6J"
      },
      "execution_count": null,
      "outputs": []
    },
    {
      "cell_type": "code",
      "source": [
        "f.seek(0)\n",
        "for line in f:\n",
        "  print(line)"
      ],
      "metadata": {
        "id": "jltXqGp4iEwb"
      },
      "execution_count": null,
      "outputs": []
    },
    {
      "cell_type": "code",
      "source": [
        "f.close()\n",
        "with open(\"TestErkan.txt\",\"w\") as ff:\n",
        "  ff.write(\"Erkan1\\n\")\n",
        "  ff.write(\"Ozcan\")\n"
      ],
      "metadata": {
        "id": "EznRmF6ii8nX"
      },
      "execution_count": null,
      "outputs": []
    },
    {
      "cell_type": "code",
      "source": [
        "f = open(\"TestErkan.txt\",'r',encoding='utf-8')"
      ],
      "metadata": {
        "id": "SU_i0DgQkpIq"
      },
      "execution_count": null,
      "outputs": []
    },
    {
      "cell_type": "code",
      "source": [
        "f.read()"
      ],
      "metadata": {
        "id": "J5BBMRTblJ-M"
      },
      "execution_count": null,
      "outputs": []
    },
    {
      "cell_type": "code",
      "source": [
        "f.seek(0)\n",
        "for line in f:\n",
        "  print(line, end = '')"
      ],
      "metadata": {
        "id": "wVLs_VjAlPK9"
      },
      "execution_count": null,
      "outputs": []
    },
    {
      "cell_type": "code",
      "source": [
        "f.seek(0)"
      ],
      "metadata": {
        "id": "0bc9T8rQmDEy"
      },
      "execution_count": null,
      "outputs": []
    },
    {
      "cell_type": "code",
      "source": [
        "print(f.readline())\n",
        "print(f.readline())\n",
        "f.close()"
      ],
      "metadata": {
        "id": "OdLMNvWqmFS8"
      },
      "execution_count": null,
      "outputs": []
    },
    {
      "cell_type": "code",
      "source": [
        "f = open(\"TestErkan.txt\",'a',encoding='utf-8')\n",
        "f.write(\"\\nAyberk\")\n",
        "f.close()"
      ],
      "metadata": {
        "id": "4pjfgNbFnSpr"
      },
      "execution_count": null,
      "outputs": []
    },
    {
      "cell_type": "code",
      "source": [
        "import os"
      ],
      "metadata": {
        "id": "YHS8VYWnoFKe"
      },
      "execution_count": null,
      "outputs": []
    },
    {
      "cell_type": "code",
      "source": [
        "os.getcwd()"
      ],
      "metadata": {
        "id": "BDe_emqwoMzh"
      },
      "execution_count": null,
      "outputs": []
    },
    {
      "cell_type": "code",
      "source": [
        "os.chdir('/content/sample_data')"
      ],
      "metadata": {
        "id": "OyhjpcbXoTQz"
      },
      "execution_count": null,
      "outputs": []
    },
    {
      "cell_type": "code",
      "source": [
        "os.listdir()"
      ],
      "metadata": {
        "id": "jy1UCjgkomhm"
      },
      "execution_count": null,
      "outputs": []
    },
    {
      "cell_type": "code",
      "source": [
        "f = open(\"README.md\")\n",
        "f.read()"
      ],
      "metadata": {
        "id": "Q4mKdN5rorKa"
      },
      "execution_count": null,
      "outputs": []
    },
    {
      "cell_type": "code",
      "source": [
        "os.mkdir(\"test\")"
      ],
      "metadata": {
        "id": "ZoCaAZvXo9Pb"
      },
      "execution_count": null,
      "outputs": []
    },
    {
      "cell_type": "code",
      "source": [
        "os.rename(\"test\",\"new_test\")"
      ],
      "metadata": {
        "id": "-7wiUqm7pVUD"
      },
      "execution_count": null,
      "outputs": []
    },
    {
      "cell_type": "code",
      "source": [
        "os.rmdir(\"new_test\")"
      ],
      "metadata": {
        "id": "VK-vGv21pZSB"
      },
      "execution_count": null,
      "outputs": []
    },
    {
      "cell_type": "code",
      "source": [
        "with open('myfile.txt', 'w') as fp:\n",
        "    fp.write(\"Hello\")\n",
        "    "
      ],
      "metadata": {
        "id": "Wf5rkclMpiv4"
      },
      "execution_count": null,
      "outputs": []
    },
    {
      "cell_type": "code",
      "source": [
        "5/0"
      ],
      "metadata": {
        "id": "iHsn3Zvcxifm"
      },
      "execution_count": null,
      "outputs": []
    },
    {
      "cell_type": "code",
      "source": [
        "import sys\n",
        "\n",
        "randomList = ['a',0,2]\n",
        "\n",
        "for entry in randomList:\n",
        "  try:\n",
        "    print(\"The entry is: \" , entry)\n",
        "    r = 1/int(entry)\n",
        "    print(\"Ans = \" + str(r))\n",
        "    break\n",
        "  except:\n",
        "    print(sys.exc_info()[0], \" occured\")\n",
        "    print()\n"
      ],
      "metadata": {
        "id": "Amyq84MWxxBU"
      },
      "execution_count": null,
      "outputs": []
    },
    {
      "cell_type": "code",
      "source": [
        "while True:\n",
        "  try:\n",
        "    number1 = int(0)\n",
        "    number2 = int(input(\"Enter second number:\"))\n",
        "    print(number1/number2)\n",
        "    break\n",
        "  except ValueError:\n",
        "    print(\"ValueError\") \n",
        "  except ZeroDivisionError:\n",
        "    print(\"Cannot divide by 0\")"
      ],
      "metadata": {
        "id": "AyhxfnT9yuaI"
      },
      "execution_count": null,
      "outputs": []
    },
    {
      "cell_type": "code",
      "source": [
        "number1 = int(input(\"Enter first number:\"))\n",
        "\n",
        "if number1 % 2 == 0:\n",
        "  raise ValueError"
      ],
      "metadata": {
        "id": "AASNXs4R2aho"
      },
      "execution_count": null,
      "outputs": []
    },
    {
      "cell_type": "code",
      "source": [
        "try:\n",
        "  num = int(input(\"Enter a num: \"))\n",
        "  assert num % 2 == 0\n",
        "except:\n",
        "  print(\"Not an even number!\")\n",
        "else:\n",
        "  ans = 1/num\n",
        "  print(ans)"
      ],
      "metadata": {
        "id": "SIoVJmHr3Xno"
      },
      "execution_count": null,
      "outputs": []
    },
    {
      "cell_type": "code",
      "source": [
        "try:\n",
        "  f = open(\"test.txt\",encoding=\"utf-8\")\n",
        "  # code\n",
        "finally:\n",
        "  f.close()"
      ],
      "metadata": {
        "id": "yeA11hQb4KZi"
      },
      "execution_count": null,
      "outputs": []
    },
    {
      "cell_type": "code",
      "source": [
        "class CustomError(Exception):\n",
        "  pass"
      ],
      "metadata": {
        "id": "mSwxiLSe3sWJ"
      },
      "execution_count": null,
      "outputs": []
    },
    {
      "cell_type": "code",
      "source": [
        "num = int(input(\"Enter a num: \"))\n",
        "\n",
        "if num > 5:\n",
        "  raise CustomError(\"Cannot be greater than 5\")"
      ],
      "metadata": {
        "id": "gysErZhC4ttp"
      },
      "execution_count": null,
      "outputs": []
    },
    {
      "cell_type": "code",
      "source": [
        "class InvalidRangeException(Exception):\n",
        "  pass"
      ],
      "metadata": {
        "id": "lY25fpZH5_UN"
      },
      "execution_count": null,
      "outputs": []
    },
    {
      "cell_type": "code",
      "source": [
        "num = int(input(\"Enter a number:\"))\n",
        "if not (num>10 and num<20):\n",
        "  raise InvalidRangeException(\"Number is supposed to be between 10 and 20\")\n",
        "  "
      ],
      "metadata": {
        "id": "kd9Gctwr5l4H"
      },
      "execution_count": null,
      "outputs": []
    },
    {
      "cell_type": "code",
      "source": [
        "class SalaryNotInRangeError(Exception):\n",
        "  def __init__(self, salary, message=\"Salary is not in 1000-5000 range\"):\n",
        "    self.salary = salary\n",
        "    self.message = message\n",
        "    super().__init__(self.message)"
      ],
      "metadata": {
        "id": "VP9g8C8W7Plp"
      },
      "execution_count": null,
      "outputs": []
    },
    {
      "cell_type": "code",
      "source": [
        "salary = int(input(\"Enter salary amount: \"))\n",
        "if not 1000 < salary < 5000:\n",
        "  raise SalaryNotInRangeError(salary)"
      ],
      "metadata": {
        "id": "I2z05XJj7nvt"
      },
      "execution_count": null,
      "outputs": []
    },
    {
      "cell_type": "code",
      "source": [
        "class Parrot:\n",
        "  # class attribute\n",
        "  species = \"bird\"\n",
        "\n",
        "  def __init__(self, name, age):\n",
        "    self.name = name\n",
        "    self.age = age"
      ],
      "metadata": {
        "id": "Ol8QPews85M4"
      },
      "execution_count": 27,
      "outputs": []
    },
    {
      "cell_type": "code",
      "source": [
        "blu = Parrot(\"Blu\",15)\n",
        "woo = Parrot(\"Woo\",25)"
      ],
      "metadata": {
        "id": "YMCk3Bg5GKm_"
      },
      "execution_count": 28,
      "outputs": []
    },
    {
      "cell_type": "code",
      "source": [
        "print(\"Woo Name: \" , woo.name)\n",
        "print(\"Woo Age: \" , woo.age)\n",
        "print(\"Woo Type: \", woo.species)\n",
        "\n",
        "\n",
        "print(\"Blu Name: \" , blu.name)\n",
        "print(\"Blu Age: \" , blu.age)\n",
        "print(\"Blu Type: \", blu.species)"
      ],
      "metadata": {
        "colab": {
          "base_uri": "https://localhost:8080/"
        },
        "id": "25EFEc4HGT72",
        "outputId": "925a9dbf-50ed-46c5-9164-f1b4c95040ae"
      },
      "execution_count": 29,
      "outputs": [
        {
          "output_type": "stream",
          "name": "stdout",
          "text": [
            "Woo Name:  Woo\n",
            "Woo Age:  25\n",
            "Woo Type:  bird\n",
            "Blu Name:  Blu\n",
            "Blu Age:  15\n",
            "Blu Type:  bird\n"
          ]
        }
      ]
    },
    {
      "cell_type": "code",
      "source": [
        "class Student:\n",
        "  def __init__(self,name,ID):\n",
        "    self.name = name\n",
        "    self.ID = ID\n",
        "  \n",
        "  def printInfo(self):\n",
        "    print(\"Student Name: \", self.name)\n",
        "    print(\"Student ID: \", self.ID)"
      ],
      "metadata": {
        "id": "4Kk1JpoOG0r_"
      },
      "execution_count": 30,
      "outputs": []
    },
    {
      "cell_type": "code",
      "source": [
        "ayberk = Student(\"Ayberk\",20)\n",
        "erkan = Student(\"Erkan\",25)\n",
        "\n",
        "ayberk.printInfo()\n",
        "erkan.printInfo()"
      ],
      "metadata": {
        "colab": {
          "base_uri": "https://localhost:8080/"
        },
        "id": "qUSXBk2dHhPe",
        "outputId": "655c603f-2551-462a-8c3e-dbfda448a14b"
      },
      "execution_count": 31,
      "outputs": [
        {
          "output_type": "stream",
          "name": "stdout",
          "text": [
            "Student Name:  Ayberk\n",
            "Student ID:  20\n",
            "Student Name:  Erkan\n",
            "Student ID:  25\n"
          ]
        }
      ]
    }
  ]
}