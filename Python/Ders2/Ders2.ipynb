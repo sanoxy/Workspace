{
 "cells": [
  {
   "cell_type": "markdown",
   "metadata": {},
   "source": [
    "### OPERATORS"
   ]
  },
  {
   "cell_type": "code",
   "execution_count": 5,
   "metadata": {},
   "outputs": [
    {
     "name": "stdout",
     "output_type": "stream",
     "text": [
      "10\n",
      "0\n",
      "25\n",
      "1.25\n",
      "2\n",
      "1\n",
      "125\n"
     ]
    }
   ],
   "source": [
    "#Arithmetic Oprators\n",
    "\n",
    "print(5+5)\n",
    "print(5-5)\n",
    "print(5*5)\n",
    "print(5/4)\n",
    "print(5%3)\n",
    "print(5//4)\n",
    "print(5**3)"
   ]
  },
  {
   "cell_type": "code",
   "execution_count": 6,
   "metadata": {},
   "outputs": [
    {
     "name": "stdout",
     "output_type": "stream",
     "text": [
      "True\n",
      "True\n",
      "False\n",
      "True\n",
      "False\n",
      "True\n"
     ]
    }
   ],
   "source": [
    "# Comparison Operators\n",
    "\n",
    "print(5 == 5)\n",
    "print(5 > 4)\n",
    "print(5 < 4)\n",
    "print(5 != 4)\n",
    "print(5 <= 4)\n",
    "print(5 >= 4)"
   ]
  },
  {
   "cell_type": "code",
   "execution_count": 9,
   "metadata": {},
   "outputs": [
    {
     "name": "stdout",
     "output_type": "stream",
     "text": [
      "True\n",
      "True\n",
      "True\n"
     ]
    }
   ],
   "source": [
    "# Logical Operators\n",
    "\n",
    "print(5 == 5 and 4 == 4)\n",
    "print(5 == 4 or 3 > 2)\n",
    "print(not(5 == 4))"
   ]
  },
  {
   "cell_type": "code",
   "execution_count": null,
   "metadata": {},
   "outputs": [],
   "source": [
    "# Assignment Operators\n",
    "\n",
    "x = 5\n",
    "x += 10\n",
    "x -= 2 \n",
    "x *= 7\n",
    "x /= 5\n",
    "x %= 3\n",
    "x //= 4\n",
    "x **= 5\n"
   ]
  },
  {
   "cell_type": "code",
   "execution_count": 15,
   "metadata": {},
   "outputs": [
    {
     "name": "stdout",
     "output_type": "stream",
     "text": [
      "True\n",
      "False\n",
      "True\n",
      "True\n"
     ]
    }
   ],
   "source": [
    "#Special Operators\n",
    "\n",
    "x = 5\n",
    "y = 5\n",
    "\n",
    "print( x is y )\n",
    "print( x is not y )\n",
    "\n",
    "name = \"Ayberk SAYGI\"\n",
    "\n",
    "print(\"A\" in name)\n",
    "print(\"J\" not in name)"
   ]
  },
  {
   "cell_type": "code",
   "execution_count": 18,
   "metadata": {},
   "outputs": [
    {
     "name": "stdout",
     "output_type": "stream",
     "text": [
      "Number is zero!\n"
     ]
    }
   ],
   "source": [
    "num = int(input(\"Enter a number\"))\n",
    "\n",
    "if num > 0:\n",
    "    print(\"Number is positive\")\n",
    "elif num == 0:\n",
    "    print(\"Number is zero!\")\n",
    "else:\n",
    "    print(\"Number is negative!\")"
   ]
  },
  {
   "cell_type": "code",
   "execution_count": 19,
   "metadata": {},
   "outputs": [
    {
     "name": "stdout",
     "output_type": "stream",
     "text": [
      "num2 is the biggest number\n"
     ]
    }
   ],
   "source": [
    "num1 = int(input(\"Enter first number\"))\n",
    "num2 = int(input(\"Enter second number\"))\n",
    "num3 = int(input(\"Enter third number\"))\n",
    "\n",
    "if num1 > num2 and num1 > num3:\n",
    "    print(\"num1 is the biggest number\")\n",
    "elif num2 > num3 and num2 > num1:\n",
    "    print(\"num2 is the biggest number\")\n",
    "else:\n",
    "    print(\"num3 is the biggest number\")\n"
   ]
  },
  {
   "cell_type": "code",
   "execution_count": 1,
   "metadata": {},
   "outputs": [
    {
     "name": "stdout",
     "output_type": "stream",
     "text": [
      "23>7>2\n"
     ]
    }
   ],
   "source": [
    "num1 = int(input(\"Enter first number\"))\n",
    "num2 = int(input(\"Enter second number\"))\n",
    "num3 = int(input(\"Enter third number\"))\n",
    "\n",
    "if num1 > num2 and num1 > num3:\n",
    "    if num2 > num3:\n",
    "        print(str(num1) + \">\" + str(num2) + \">\" + str(num3))\n",
    "    else:\n",
    "        print(str(num1) + \">\" + str(num3) + \">\" + str(num2))\n",
    "elif num2 > num1 and num2 > num3:\n",
    "    if num1 > num3:\n",
    "        print(str(num2) + \">\" + str(num1) + \">\" + str(num3))\n",
    "    else:\n",
    "        print(str(num2) + \">\" + str(num3) + \">\" + str(num1))\n",
    "else:\n",
    "    if num2 > num1:\n",
    "        print(str(num3) + \">\" + str(num2) + \">\" + str(num1))\n",
    "    else:\n",
    "        print(str(num3) + \">\" + str(num1) + \">\" + str(num2))"
   ]
  },
  {
   "cell_type": "code",
   "execution_count": null,
   "metadata": {},
   "outputs": [],
   "source": []
  }
 ],
 "metadata": {
  "kernelspec": {
   "display_name": "Python 3.10.5 64-bit",
   "language": "python",
   "name": "python3"
  },
  "language_info": {
   "codemirror_mode": {
    "name": "ipython",
    "version": 3
   },
   "file_extension": ".py",
   "mimetype": "text/x-python",
   "name": "python",
   "nbconvert_exporter": "python",
   "pygments_lexer": "ipython3",
   "version": "3.10.5"
  },
  "orig_nbformat": 4,
  "vscode": {
   "interpreter": {
    "hash": "26de051ba29f2982a8de78e945f0abaf191376122a1563185a90213a26c5da77"
   }
  }
 },
 "nbformat": 4,
 "nbformat_minor": 2
}
