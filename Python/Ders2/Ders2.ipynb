{
 "cells": [
  {
   "cell_type": "markdown",
   "metadata": {},
   "source": [
    "### OPERATORS"
   ]
  },
  {
   "cell_type": "code",
   "execution_count": null,
   "metadata": {},
   "outputs": [],
   "source": [
    "#Arithmetic Oprators\n",
    "\n",
    "print(5+5)\n",
    "print(5-5)\n",
    "print(5*5)\n",
    "print(5/4)\n",
    "print(5%3)\n",
    "print(5//4)\n",
    "print(5**3)"
   ]
  },
  {
   "cell_type": "code",
   "execution_count": null,
   "metadata": {},
   "outputs": [],
   "source": [
    "# Comparison Operators\n",
    "\n",
    "print(5 == 5)\n",
    "print(5 > 4)\n",
    "print(5 < 4)\n",
    "print(5 != 4)\n",
    "print(5 <= 4)\n",
    "print(5 >= 4)"
   ]
  },
  {
   "cell_type": "code",
   "execution_count": null,
   "metadata": {},
   "outputs": [],
   "source": [
    "# Logical Operators\n",
    "\n",
    "print(5 == 5 and 4 == 4)\n",
    "print(5 == 4 or 3 > 2)\n",
    "print(not(5 == 4))"
   ]
  },
  {
   "cell_type": "code",
   "execution_count": null,
   "metadata": {},
   "outputs": [],
   "source": [
    "# Assignment Operators\n",
    "\n",
    "x = 5\n",
    "x += 10\n",
    "x -= 2 \n",
    "x *= 7\n",
    "x /= 5\n",
    "x %= 3\n",
    "x //= 4\n",
    "x **= 5\n"
   ]
  },
  {
   "cell_type": "code",
   "execution_count": null,
   "metadata": {},
   "outputs": [],
   "source": [
    "#Special Operators\n",
    "\n",
    "x = 5\n",
    "y = 5\n",
    "\n",
    "print( x is y )\n",
    "print( x is not y )\n",
    "\n",
    "name = \"Ayberk SAYGI\"\n",
    "\n",
    "print(\"A\" in name)\n",
    "print(\"J\" not in name)"
   ]
  },
  {
   "cell_type": "code",
   "execution_count": null,
   "metadata": {},
   "outputs": [],
   "source": [
    "num = int(input(\"Enter a number\"))\n",
    "\n",
    "if num > 0:\n",
    "    print(\"Number is positive\")\n",
    "elif num == 0:\n",
    "    print(\"Number is zero!\")\n",
    "else:\n",
    "    print(\"Number is negative!\")"
   ]
  },
  {
   "cell_type": "code",
   "execution_count": null,
   "metadata": {},
   "outputs": [],
   "source": [
    "num1 = int(input(\"Enter first number\"))\n",
    "num2 = int(input(\"Enter second number\"))\n",
    "num3 = int(input(\"Enter third number\"))\n",
    "\n",
    "if num1 > num2 and num1 > num3:\n",
    "    print(\"num1 is the biggest number\")\n",
    "elif num2 > num3 and num2 > num1:\n",
    "    print(\"num2 is the biggest number\")\n",
    "else:\n",
    "    print(\"num3 is the biggest number\")\n"
   ]
  },
  {
   "cell_type": "code",
   "execution_count": null,
   "metadata": {},
   "outputs": [],
   "source": [
    "num1 = int(input(\"Enter first number\"))\n",
    "num2 = int(input(\"Enter second number\"))\n",
    "num3 = int(input(\"Enter third number\"))\n",
    "\n",
    "if num1 > num2 and num1 > num3:\n",
    "    if num2 > num3:\n",
    "        print(str(num1) + \">\" + str(num2) + \">\" + str(num3))\n",
    "    else:\n",
    "        print(str(num1) + \">\" + str(num3) + \">\" + str(num2))\n",
    "elif num2 > num1 and num2 > num3:\n",
    "    if num1 > num3:\n",
    "        print(str(num2) + \">\" + str(num1) + \">\" + str(num3))\n",
    "    else:\n",
    "        print(str(num2) + \">\" + str(num3) + \">\" + str(num1))\n",
    "else:\n",
    "    if num2 > num1:\n",
    "        print(str(num3) + \">\" + str(num2) + \">\" + str(num1))\n",
    "    else:\n",
    "        print(str(num3) + \">\" + str(num1) + \">\" + str(num2))\n"
   ]
  },
  {
   "cell_type": "code",
   "execution_count": null,
   "metadata": {},
   "outputs": [],
   "source": [
    "for i in range(50,25,-2):\n",
    "    print(i)"
   ]
  },
  {
   "cell_type": "code",
   "execution_count": 12,
   "metadata": {},
   "outputs": [
    {
     "name": "stdout",
     "output_type": "stream",
     "text": [
      "720\n"
     ]
    }
   ],
   "source": [
    "num = int(input(\"Enter a number\"))\n",
    "\n",
    "fact = 1\n",
    "\n",
    "for i in range(1,num+1):\n",
    "    fact *= i\n",
    "\n",
    "print(fact)"
   ]
  },
  {
   "cell_type": "code",
   "execution_count": 13,
   "metadata": {},
   "outputs": [
    {
     "name": "stdout",
     "output_type": "stream",
     "text": [
      "81\n"
     ]
    }
   ],
   "source": [
    "base = int(input(\"Enter a number\"))\n",
    "exp = int(input(\"Enter a number\"))\n",
    "ans = 1\n",
    "\n",
    "for i in range(exp):\n",
    "    ans *= base\n",
    "print(ans)\n"
   ]
  },
  {
   "cell_type": "code",
   "execution_count": 15,
   "metadata": {},
   "outputs": [
    {
     "name": "stdout",
     "output_type": "stream",
     "text": [
      "25\n"
     ]
    }
   ],
   "source": [
    "num1 = int(input(\"Enter a number\"))\n",
    "num2 = int(input(\"Enter a number\"))\n",
    "\n",
    "for x in range (min(num1, num2),0,-1):\n",
    "    if num1 % x == 0 and num2 % x == 0:\n",
    "        print(x)\n",
    "        break"
   ]
  },
  {
   "cell_type": "code",
   "execution_count": 3,
   "metadata": {},
   "outputs": [
    {
     "data": {
      "text/plain": [
       "392817"
      ]
     },
     "execution_count": 3,
     "metadata": {},
     "output_type": "execute_result"
    }
   ],
   "source": [
    "# Take a number as input from user and then rint that number in reversed order.\n",
    "    # 123 -> 321\n",
    "\n",
    "# num = int (input(\"Enter a 5 digit number\"))\n",
    "# x = 0\n",
    "\n",
    "\n",
    "# while num != 0:\n",
    "    # rem = num % 10\n",
    "    # x = x * 10 + rem\n",
    "    # num = num // 10\n",
    "\n",
    "x"
   ]
  },
  {
   "cell_type": "code",
   "execution_count": 3,
   "metadata": {},
   "outputs": [
    {
     "name": "stdout",
     "output_type": "stream",
     "text": [
      "EKOK =  156\n"
     ]
    }
   ],
   "source": [
    "# EKOK\n",
    "num1 = int (input(\"Enter num1\"))\n",
    "num2 = int (input(\"Enter num2\"))\n",
    "\n",
    "x = max(num1,num2)\n",
    "\n",
    "while True:\n",
    "    if x % num1 == x % num2 == 0:\n",
    "        print(\"EKOK = \",x)\n",
    "        break\n",
    "    x += max(num1,num2)"
   ]
  }
 ],
 "metadata": {
  "kernelspec": {
   "display_name": "Python 3.10.5 64-bit",
   "language": "python",
   "name": "python3"
  },
  "language_info": {
   "codemirror_mode": {
    "name": "ipython",
    "version": 3
   },
   "file_extension": ".py",
   "mimetype": "text/x-python",
   "name": "python",
   "nbconvert_exporter": "python",
   "pygments_lexer": "ipython3",
   "version": "3.10.5"
  },
  "orig_nbformat": 4,
  "vscode": {
   "interpreter": {
    "hash": "26de051ba29f2982a8de78e945f0abaf191376122a1563185a90213a26c5da77"
   }
  }
 },
 "nbformat": 4,
 "nbformat_minor": 2
}
