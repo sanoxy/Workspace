{
 "cells": [
  {
   "cell_type": "code",
   "execution_count": null,
   "metadata": {},
   "outputs": [],
   "source": [
    "number = 10\n",
    "number = 1.1\n",
    "\n",
    "print(number)"
   ]
  },
  {
   "cell_type": "code",
   "execution_count": null,
   "metadata": {},
   "outputs": [],
   "source": [
    "name = \"Ayberk\"\n",
    "name1 = \"Erkan\"\n",
    "\n",
    "print(name+' '+name1)"
   ]
  },
  {
   "cell_type": "code",
   "execution_count": null,
   "metadata": {},
   "outputs": [],
   "source": [
    "a, b, c = 5, 3.2, \"Hello\"\n",
    "\n",
    "print(a)\n",
    "print(c)\n",
    "print(b)"
   ]
  },
  {
   "cell_type": "code",
   "execution_count": null,
   "metadata": {},
   "outputs": [],
   "source": [
    "PI = 3.14\n",
    "\n",
    "a = 0b1010\n",
    "b = 100\n",
    "c = 0o310\n",
    "d = 0x12c\n",
    "\n",
    "float_1 = 10.5\n",
    "float_2 = 1.5e2\n",
    "\n",
    "x = 3.14j\n",
    "\n",
    "name = \"Ayberk\"\n",
    "char = \"C\"\n",
    "\n",
    "mls = \"\"\"sdgfsgsdgsdg\n",
    "sdgsdgsdgsdg\n",
    "sdgsdgsdgsdg\n",
    "sdgsdgsdg\n",
    "sdgdsg\"\"\"\n",
    "\n",
    "unicodestr = u\"\\u00dcnic\\u00f6de\"\n",
    "unicodestr\n",
    "\n",
    "x = 1 == 1\n",
    "y = (1 == 2)\n",
    "y"
   ]
  },
  {
   "cell_type": "code",
   "execution_count": null,
   "metadata": {},
   "outputs": [],
   "source": [
    "a  = 5\n",
    "b = 5.5\n",
    "c = 5j"
   ]
  },
  {
   "cell_type": "code",
   "execution_count": null,
   "metadata": {},
   "outputs": [],
   "source": [
    "# lıst\n",
    "a = [1, 2.2, \"Python\",55,\"Ayberk\",54,\"Erkan\"]\n",
    "a[:-2]\n",
    "\n",
    "# tuple\n",
    "t = (5,\"programmer\",6.7)\n",
    "\n",
    "ret = list(t)\n",
    "ret[2] = 6.0\n",
    "t = tuple(ret)\n",
    "\n",
    "t\n"
   ]
  },
  {
   "cell_type": "code",
   "execution_count": null,
   "metadata": {},
   "outputs": [],
   "source": [
    "#strings\n",
    "\n",
    "s = \"Hello World!\"\n",
    "\n",
    "s[:5]\n",
    "s = s.upper()\n",
    "s.count(\"L\") "
   ]
  },
  {
   "cell_type": "code",
   "execution_count": null,
   "metadata": {},
   "outputs": [],
   "source": [
    "a = {1,2,3,4,5,3}"
   ]
  },
  {
   "cell_type": "code",
   "execution_count": null,
   "metadata": {},
   "outputs": [],
   "source": [
    "d = {1:'value','key':2}\n",
    "d.values()\n",
    "d.keys()\n",
    "\n",
    "d[1]\n",
    "\n",
    "int(5.999999999999999999999999999999999999999)\n",
    "\n"
   ]
  },
  {
   "cell_type": "code",
   "execution_count": null,
   "metadata": {},
   "outputs": [],
   "source": [
    "print ('merhaba')\n",
    "\n",
    "\n",
    "num = int(input(\"Enter a number\"))\n",
    "type(num)\n",
    "\n"
   ]
  },
  {
   "cell_type": "code",
   "execution_count": 63,
   "metadata": {},
   "outputs": [
    {
     "name": "stdout",
     "output_type": "stream",
     "text": [
      "My name is Erkan. I'm 51 years old.\n"
     ]
    }
   ],
   "source": [
    "name = input(\"Enter name: \")\n",
    "age = int(input(\"Enter age: \"))\n",
    "\n",
    "print ('My name is ' + name +'. I\\'m ' + str(age) + ' years old.')"
   ]
  }
 ],
 "metadata": {
  "kernelspec": {
   "display_name": "Python 3.10.5 64-bit",
   "language": "python",
   "name": "python3"
  },
  "language_info": {
   "codemirror_mode": {
    "name": "ipython",
    "version": 3
   },
   "file_extension": ".py",
   "mimetype": "text/x-python",
   "name": "python",
   "nbconvert_exporter": "python",
   "pygments_lexer": "ipython3",
   "version": "3.10.5"
  },
  "orig_nbformat": 4,
  "vscode": {
   "interpreter": {
    "hash": "26de051ba29f2982a8de78e945f0abaf191376122a1563185a90213a26c5da77"
   }
  }
 },
 "nbformat": 4,
 "nbformat_minor": 2
}
