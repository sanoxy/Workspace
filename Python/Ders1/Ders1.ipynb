{
 "cells": [
  {
   "cell_type": "code",
   "execution_count": null,
   "metadata": {},
   "outputs": [],
   "source": [
    "number = 10\n",
    "number = 1.1\n",
    "\n",
    "print(number)"
   ]
  },
  {
   "cell_type": "code",
   "execution_count": null,
   "metadata": {},
   "outputs": [],
   "source": [
    "name = \"Ayberk\"\n",
    "name1 = \"Erkan\"\n",
    "\n",
    "print(name+' '+name1)"
   ]
  },
  {
   "cell_type": "code",
   "execution_count": 1,
   "metadata": {},
   "outputs": [
    {
     "name": "stdout",
     "output_type": "stream",
     "text": [
      "5\n",
      "Hello\n",
      "3.2\n"
     ]
    }
   ],
   "source": [
    "a, b, c = 5, 3.2, \"Hello\"\n",
    "\n",
    "print(a)\n",
    "print(c)\n",
    "print(b)"
   ]
  },
  {
   "cell_type": "code",
   "execution_count": 2,
   "metadata": {},
   "outputs": [
    {
     "data": {
      "text/plain": [
       "False"
      ]
     },
     "execution_count": 2,
     "metadata": {},
     "output_type": "execute_result"
    }
   ],
   "source": [
    "PI = 3.14\n",
    "\n",
    "a = 0b1010\n",
    "b = 100\n",
    "c = 0o310\n",
    "d = 0x12c\n",
    "\n",
    "float_1 = 10.5\n",
    "float_2 = 1.5e2 \n",
    "\n",
    "x = 3.14j\n",
    "\n",
    "name = \"Ayberk\"\n",
    "char = \"C\"\n",
    "\n",
    "mls = \"\"\"sdgfsgsdgsdg\n",
    "sdgsdgsdgsdg\n",
    "sdgsdgsdgsdg\n",
    "sdgsdgsdg\n",
    "sdgdsg\"\"\"\n",
    "\n",
    "unicodestr = u\"\\u00dcnic\\u00f6de\"\n",
    "unicodestr\n",
    "\n",
    "x = 1 == 1\n",
    "y = (1 == 2)\n",
    "y"
   ]
  },
  {
   "cell_type": "code",
   "execution_count": null,
   "metadata": {},
   "outputs": [],
   "source": [
    "a  = 5\n",
    "b = 5.5\n",
    "c = 5j"
   ]
  },
  {
   "cell_type": "code",
   "execution_count": 3,
   "metadata": {},
   "outputs": [
    {
     "data": {
      "text/plain": [
       "(5, 'programmer', 6.0)"
      ]
     },
     "execution_count": 3,
     "metadata": {},
     "output_type": "execute_result"
    }
   ],
   "source": [
    "# lıst\n",
    "a = [1, 2.2, \"Python\",55,\"Ayberk\",54,\"Erkan\"]\n",
    "a[:-2] #slicing [x:y]\n",
    "\n",
    "# tuple\n",
    "t = (5,\"programmer\",6.7)\n",
    "\n",
    "ret = list(t)\n",
    "ret[2] = 6.0\n",
    "t = tuple(ret)\n",
    "\n",
    "t"
   ]
  },
  {
   "cell_type": "code",
   "execution_count": 4,
   "metadata": {},
   "outputs": [
    {
     "data": {
      "text/plain": [
       "3"
      ]
     },
     "execution_count": 4,
     "metadata": {},
     "output_type": "execute_result"
    }
   ],
   "source": [
    "#strings\n",
    "\n",
    "s = \"Hello World!\"\n",
    "\n",
    "s[:5]\n",
    "s = s.upper()\n",
    "s.count(\"L\") "
   ]
  },
  {
   "cell_type": "code",
   "execution_count": 6,
   "metadata": {},
   "outputs": [
    {
     "data": {
      "text/plain": [
       "{1, 2, 3, 4, 5}"
      ]
     },
     "execution_count": 6,
     "metadata": {},
     "output_type": "execute_result"
    }
   ],
   "source": [
    "a = {1,2,3,4,5,3}"
   ]
  },
  {
   "cell_type": "code",
   "execution_count": 13,
   "metadata": {},
   "outputs": [
    {
     "data": {
      "text/plain": [
       "5"
      ]
     },
     "execution_count": 13,
     "metadata": {},
     "output_type": "execute_result"
    }
   ],
   "source": [
    "d = {1:'value','key':2}\n",
    "d.values()\n",
    "d.keys()\n",
    "\n",
    "d['key']\n",
    "\n",
    "\n",
    "int(5.999)\n"
   ]
  },
  {
   "cell_type": "code",
   "execution_count": 15,
   "metadata": {},
   "outputs": [
    {
     "name": "stdout",
     "output_type": "stream",
     "text": [
      "merhaba\n"
     ]
    },
    {
     "ename": "ValueError",
     "evalue": "invalid literal for int() with base 10: 'dsgsdgsdg'",
     "output_type": "error",
     "traceback": [
      "\u001b[1;31m---------------------------------------------------------------------------\u001b[0m",
      "\u001b[1;31mValueError\u001b[0m                                Traceback (most recent call last)",
      "\u001b[1;32mc:\\Workspace\\Python\\Ders1\\Ders1.ipynb Cell 10\u001b[0m in \u001b[0;36m<cell line: 4>\u001b[1;34m()\u001b[0m\n\u001b[0;32m      <a href='vscode-notebook-cell:/c%3A/Workspace/Python/Ders1/Ders1.ipynb#ch0000009?line=0'>1</a>\u001b[0m \u001b[39mprint\u001b[39m (\u001b[39m'\u001b[39m\u001b[39mmerhaba\u001b[39m\u001b[39m'\u001b[39m)\n\u001b[1;32m----> <a href='vscode-notebook-cell:/c%3A/Workspace/Python/Ders1/Ders1.ipynb#ch0000009?line=3'>4</a>\u001b[0m num \u001b[39m=\u001b[39m \u001b[39mint\u001b[39;49m(\u001b[39minput\u001b[39;49m(\u001b[39m\"\u001b[39;49m\u001b[39mEnter a number\u001b[39;49m\u001b[39m\"\u001b[39;49m))\n\u001b[0;32m      <a href='vscode-notebook-cell:/c%3A/Workspace/Python/Ders1/Ders1.ipynb#ch0000009?line=4'>5</a>\u001b[0m \u001b[39mtype\u001b[39m(num)\n",
      "\u001b[1;31mValueError\u001b[0m: invalid literal for int() with base 10: 'dsgsdgsdg'"
     ]
    }
   ],
   "source": [
    "print ('merhaba')\n",
    "\n",
    "\n",
    "num = int(input(\"Enter a number\"))\n",
    "type(num)\n",
    "\n"
   ]
  },
  {
   "cell_type": "code",
   "execution_count": 63,
   "metadata": {},
   "outputs": [
    {
     "name": "stdout",
     "output_type": "stream",
     "text": [
      "My name is Erkan. I'm 51 years old.\n"
     ]
    }
   ],
   "source": [
    "name = input(\"Enter name: \")\n",
    "age = int(input(\"Enter age: \"))\n",
    "\n",
    "print ('My name is ' + name +'. I\\'m ' + str(age) + ' years old.')"
   ]
  }
 ],
 "metadata": {
  "kernelspec": {
   "display_name": "Python 3.10.5 64-bit",
   "language": "python",
   "name": "python3"
  },
  "language_info": {
   "codemirror_mode": {
    "name": "ipython",
    "version": 3
   },
   "file_extension": ".py",
   "mimetype": "text/x-python",
   "name": "python",
   "nbconvert_exporter": "python",
   "pygments_lexer": "ipython3",
   "version": "3.10.5"
  },
  "orig_nbformat": 4,
  "vscode": {
   "interpreter": {
    "hash": "26de051ba29f2982a8de78e945f0abaf191376122a1563185a90213a26c5da77"
   }
  }
 },
 "nbformat": 4,
 "nbformat_minor": 2
}
